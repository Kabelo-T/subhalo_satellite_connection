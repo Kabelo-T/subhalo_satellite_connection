{
 "cells": [
  {
   "cell_type": "code",
   "execution_count": 1,
   "metadata": {},
   "outputs": [],
   "source": [
    "#Imports\n",
    "import numpy as np\n",
    "from load_hyperparams import *\n",
    "from masks import load_survey_masks\n",
    "from satellite_realization import satellite_realization, evaluate_ln_likelihood\n",
    "from load_satellites import get_true_counts"
   ]
  },
  {
   "cell_type": "code",
   "execution_count": 2,
   "metadata": {},
   "outputs": [],
   "source": [
    "#Set parameters\n",
    "params = load_params()\n",
    "default_param_vector = np.array(list(load_params().values()))\n",
    "\n",
    "#For likelihood illustration\n",
    "ruled_out_M50_param_vector = np.array(list(load_params().values()))\n",
    "ruled_out_M50_param_vector[2] = 8.5\n",
    "\n",
    "#Load hyperparameters\n",
    "hparams, cosmo_params, orphan_params, halo_data, sim_indices, vpeak_Mr_interp = load_hyperparams()"
   ]
  },
  {
   "cell_type": "code",
   "execution_count": 3,
   "metadata": {
    "scrolled": true
   },
   "outputs": [
    {
     "name": "stdout",
     "output_type": "stream",
     "text": [
      "loading masks and ssfs ... \n",
      "\n",
      "NSIDE = 4096\n",
      "ORDERING = NESTED in fits file\n",
      "INDXSCHM = IMPLICIT\n",
      "NSIDE = 128\n",
      "ORDERING = RING in fits file\n",
      "INDXSCHM = IMPLICIT\n"
     ]
    },
    {
     "name": "stderr",
     "output_type": "stream",
     "text": [
      "/Users/eon/Documents/subhalo_satellite_connection/1912.03303/ssf.py:12: YAMLLoadWarning: calling yaml.load() without Loader=... is deprecated, as the default Loader is unsafe. Please read https://msg.pyyaml.org/load for full details.\n",
      "  self.config = yaml.load(open(config_file))\n"
     ]
    },
    {
     "name": "stdout",
     "output_type": "stream",
     "text": [
      "NSIDE = 4096\n",
      "ORDERING = NESTED in fits file\n",
      "INDXSCHM = IMPLICIT\n",
      "NSIDE = 128\n",
      "ORDERING = RING in fits file\n",
      "INDXSCHM = IMPLICIT\n",
      "\n",
      " done\n"
     ]
    }
   ],
   "source": [
    "#Load masks and ssfs\n",
    "print('loading masks and ssfs ... \\n')\n",
    "masks,ssfs = load_survey_masks()\n",
    "print('\\n done')"
   ]
  },
  {
   "cell_type": "code",
   "execution_count": 4,
   "metadata": {},
   "outputs": [],
   "source": [
    "#Get list of satellite realizations\n",
    "combined_satellite_properties_list, mock_counts = satellite_realization(default_param_vector,\n",
    "                                                           hparams,cosmo_params,orphan_params,\n",
    "                                                           halo_data,sim_indices,\n",
    "                                                           vpeak_Mr_interp,masks,ssfs)"
   ]
  },
  {
   "cell_type": "code",
   "execution_count": 5,
   "metadata": {
    "scrolled": true
   },
   "outputs": [
    {
     "name": "stdout",
     "output_type": "stream",
     "text": [
      "number of predicted des satellites = 18.7 +/- 2.4\n",
      "number of predicted ps1 satellites = 22.5 +/- 2.3\n"
     ]
    }
   ],
   "source": [
    "#First look at predictions\n",
    "satellite_num = {}\n",
    "satellite_num['des'] = []\n",
    "satellite_num['ps1'] = []\n",
    "\n",
    "for i in range(len(combined_satellite_properties_list)):\n",
    "    for survey in ['des','ps1']:\n",
    "        flags = combined_satellite_properties_list[i]['{}_flags'.format(survey)]\n",
    "        satellite_num[survey].append(np.sum(combined_satellite_properties_list[i]['pdet'][flags]))\n",
    "\n",
    "for survey in ['des','ps1']:\n",
    "    print('number of predicted {} satellites = {:.1f} +/- {:.1f}'.format(survey,np.mean(satellite_num[survey],axis=0),\n",
    "                                                                         np.std(satellite_num[survey],axis=0)))"
   ]
  },
  {
   "cell_type": "code",
   "execution_count": 6,
   "metadata": {},
   "outputs": [
    {
     "name": "stderr",
     "output_type": "stream",
     "text": [
      "/usr/local/lib/python3.7/site-packages/numpy/lib/npyio.py:2322: VisibleDeprecationWarning: Reading unicode strings without specifying the encoding argument is deprecated. Set the encoding, use None for the system default.\n",
      "  output = genfromtxt(fname, **kwargs)\n"
     ]
    },
    {
     "name": "stdout",
     "output_type": "stream",
     "text": [
      "log-likelihood ratio = -25.82871940407597\n"
     ]
    }
   ],
   "source": [
    "#Illustrate likelihood evaluation\n",
    "true_counts = get_true_counts()\n",
    "\n",
    "#For default parameters\n",
    "lnlike = evaluate_ln_likelihood(default_param_vector,hparams,cosmo_params,orphan_params,\n",
    "                                halo_data,sim_indices,vpeak_Mr_interp,\n",
    "                                masks,ssfs,true_counts,surveys=['des','ps1'])\n",
    "\n",
    "#For suppressed galaxy formation\n",
    "lnlike_suppressed = evaluate_ln_likelihood(ruled_out_M50_param_vector,hparams,cosmo_params,orphan_params,\n",
    "                                halo_data,sim_indices,vpeak_Mr_interp,\n",
    "                                masks,ssfs,true_counts,surveys=['des','ps1'])\n",
    "\n",
    "print('log-likelihood ratio = {}'.format(lnlike_suppressed-lnlike))"
   ]
  }
 ],
 "metadata": {
  "kernelspec": {
   "display_name": "Python 3",
   "language": "python",
   "name": "python3"
  },
  "language_info": {
   "codemirror_mode": {
    "name": "ipython",
    "version": 3
   },
   "file_extension": ".py",
   "mimetype": "text/x-python",
   "name": "python",
   "nbconvert_exporter": "python",
   "pygments_lexer": "ipython3",
   "version": "3.7.5"
  }
 },
 "nbformat": 4,
 "nbformat_minor": 2
}
