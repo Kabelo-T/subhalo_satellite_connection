{
 "cells": [
  {
   "cell_type": "code",
   "execution_count": null,
   "metadata": {},
   "outputs": [],
   "source": [
    "#Imports\n",
    "from load_hyperparams import load_hyperparams\n",
    "from predict_satellites import satellite_properties\n",
    "from predict_orphans import orphan_satellite_properties"
   ]
  },
  {
   "cell_type": "code",
   "execution_count": null,
   "metadata": {},
   "outputs": [],
   "source": [
    "#Set parameters\n",
    "params = {}\n",
    "\n",
    "params['alpha'] = -1.4\n",
    "params['sigma_M'] = 0.1\n",
    "params['M50'] = 8.\n",
    "params['sigma_mpeak'] = 0.35\n",
    "params['B'] = 1.\n",
    "params['A'] = 34\n",
    "params['sigma_r'] = 0.3\n",
    "params['n'] = 1.3"
   ]
  },
  {
   "cell_type": "code",
   "execution_count": null,
   "metadata": {},
   "outputs": [],
   "source": [
    "#Load hyperparameters\n",
    "hparams, cosmo_params, orphan_params, halo_data, vpeak_Mr_interp = load_hyperparams()"
   ]
  },
  {
   "cell_type": "code",
   "execution_count": null,
   "metadata": {},
   "outputs": [],
   "source": [
    "#Return satellite properties for a particular host halo\n",
    "satellite_properties(halo_data[0], params, hparams, cosmo_params, vpeak_Mr_interp)"
   ]
  },
  {
   "cell_type": "code",
   "execution_count": null,
   "metadata": {
    "scrolled": true
   },
   "outputs": [],
   "source": [
    "#Return orphan satellite properties for a particular host halo\n",
    "orphan_satellite_properties(halo_data[0], params, hparams, cosmo_params, vpeak_Mr_interp)"
   ]
  }
 ],
 "metadata": {
  "kernelspec": {
   "display_name": "Python 3",
   "language": "python",
   "name": "python3"
  },
  "language_info": {
   "codemirror_mode": {
    "name": "ipython",
    "version": 3
   },
   "file_extension": ".py",
   "mimetype": "text/x-python",
   "name": "python",
   "nbconvert_exporter": "python",
   "pygments_lexer": "ipython3",
   "version": "3.7.5"
  }
 },
 "nbformat": 4,
 "nbformat_minor": 2
}
