{
 "cells": [
  {
   "cell_type": "code",
   "execution_count": 1,
   "metadata": {},
   "outputs": [],
   "source": [
    "#Imports\n",
    "import numpy as np\n",
    "from load_hyperparams import load_hyperparams\n",
    "from predict_satellites import *\n",
    "from fix_lmc_coords import get_lmc_coords, rotate_about_LMC\n",
    "from astropy.coordinates import SkyCoord\n",
    "from masks import load_survey_masks, evaluate_mask\n",
    "from ssf import apply_ssfs"
   ]
  },
  {
   "cell_type": "code",
   "execution_count": 2,
   "metadata": {},
   "outputs": [],
   "source": [
    "#Set parameters\n",
    "params = {}\n",
    "\n",
    "params['alpha'] = -1.43\n",
    "params['sigma_M'] = 0.05\n",
    "params['M50'] = 7.5\n",
    "params['sigma_mpeak'] = 0.05\n",
    "params['B'] = 1.\n",
    "params['A'] = 40\n",
    "params['sigma_r'] = 0.6\n",
    "params['n'] = 1.\n",
    "\n",
    "#Load hyperparameters\n",
    "hparams, cosmo_params, orphan_params, halo_data, vpeak_Mr_interp = load_hyperparams()"
   ]
  },
  {
   "cell_type": "code",
   "execution_count": 3,
   "metadata": {},
   "outputs": [
    {
     "name": "stdout",
     "output_type": "stream",
     "text": [
      "loading masks and ssfs ... \n",
      "\n",
      "NSIDE = 4096\n",
      "ORDERING = NESTED in fits file\n",
      "INDXSCHM = IMPLICIT\n",
      "NSIDE = 128\n",
      "ORDERING = RING in fits file\n",
      "INDXSCHM = IMPLICIT\n"
     ]
    },
    {
     "name": "stderr",
     "output_type": "stream",
     "text": [
      "/Users/eon/Documents/subhalo_satellite_connection/1912.03303/ssf.py:12: YAMLLoadWarning: calling yaml.load() without Loader=... is deprecated, as the default Loader is unsafe. Please read https://msg.pyyaml.org/load for full details.\n",
      "  self.config = yaml.load(open(config_file))\n"
     ]
    },
    {
     "name": "stdout",
     "output_type": "stream",
     "text": [
      "NSIDE = 4096\n",
      "ORDERING = NESTED in fits file\n",
      "INDXSCHM = IMPLICIT\n",
      "NSIDE = 128\n",
      "ORDERING = RING in fits file\n",
      "INDXSCHM = IMPLICIT\n",
      "\n",
      " done\n"
     ]
    }
   ],
   "source": [
    "surveys = ['des', 'ps1']\n",
    "\n",
    "print('loading masks and ssfs ... \\n')\n",
    "masks,ssfs = load_survey_masks(surveys)\n",
    "print('\\n done')"
   ]
  },
  {
   "cell_type": "code",
   "execution_count": 4,
   "metadata": {},
   "outputs": [],
   "source": [
    "#Return satellite properties for a particular MW-like host halo\n",
    "combined_satellite_properties = get_combined_satellite_properties(halo_data[14], params, hparams, cosmo_params, \n",
    "                                                                  vpeak_Mr_interp)"
   ]
  },
  {
   "cell_type": "code",
   "execution_count": 5,
   "metadata": {},
   "outputs": [],
   "source": [
    "#Rotate about LMC\n",
    "lmc_ind = 0\n",
    "lmc_cartesian_coords = get_lmc_coords(halo_data[14],cosmo_params,lmc_ind)\n",
    "combined_satellite_properties_rotated = rotate_about_LMC(combined_satellite_properties,halo_data[14],cosmo_params,\n",
    "                                                lmc_cartesian_coords,lmc_ind,observer_ind=0)"
   ]
  },
  {
   "cell_type": "code",
   "execution_count": 6,
   "metadata": {},
   "outputs": [],
   "source": [
    "#Precompute satellite properties and flags for each observer location\n",
    "combined_satellite_properties_list = []\n",
    "DES_flags_list = []\n",
    "PS1_flags_list = []\n",
    "Halo_ra_list = []\n",
    "Halo_dec_list = []\n",
    "\n",
    "#Loop over simulations\n",
    "for ind in [14, 20]:\n",
    "    #Loop over observer locations\n",
    "    for i in range(6):\n",
    "        #Get satellite properties\n",
    "        combined_satellite_properties = get_combined_satellite_properties(halo_data[ind], params, hparams, cosmo_params, \n",
    "                                                                  vpeak_Mr_interp)\n",
    "        combined_satellite_properties_rotated = rotate_about_LMC(combined_satellite_properties,halo_data[ind],cosmo_params,\n",
    "                                                    lmc_cartesian_coords,lmc_ind,i)\n",
    "        #Transform to sky coordinates\n",
    "        Halo_sky_coord = SkyCoord(x=combined_satellite_properties_rotated['rotated_pos'][:,0], \n",
    "                          y=combined_satellite_properties_rotated['rotated_pos'][:,1], \n",
    "                          z=combined_satellite_properties_rotated['rotated_pos'][:,2], \n",
    "                          unit='kpc', representation_type='cartesian').spherical\n",
    "        combined_satellite_properties_rotated['ra'] = Halo_sky_coord.lon.degree\n",
    "        combined_satellite_properties_rotated['dec'] = Halo_sky_coord.lat.degree\n",
    "        #Assign flags \n",
    "        for survey in surveys:\n",
    "            combined_satellite_properties_rotated['{}_flags'.format(survey)] = evaluate_mask(Halo_sky_coord.lon.degree,\n",
    "                                                                                    Halo_sky_coord.lat.degree,\n",
    "                                                                                    masks[survey], survey)\n",
    "        #Apply ssfs\n",
    "        combined_satellite_properties_rotated['pdet'] = apply_ssfs(combined_satellite_properties_rotated,ssfs)\n",
    "        #Append\n",
    "        combined_satellite_properties_list.append(combined_satellite_properties_rotated)"
   ]
  },
  {
   "cell_type": "code",
   "execution_count": 7,
   "metadata": {
    "scrolled": true
   },
   "outputs": [
    {
     "name": "stdout",
     "output_type": "stream",
     "text": [
      "number of predicted des satellites = 14.306464789647348\n",
      "number of predicted ps1 satellites = 21.689937374558664\n"
     ]
    }
   ],
   "source": [
    "#First look at predictions\n",
    "des_sum = []\n",
    "ps1_sum = []\n",
    "\n",
    "for i in range(len(combined_satellite_properties_list)):\n",
    "    des_flags = combined_satellite_properties_list[i]['des_flags']\n",
    "    ps1_flags = np.logical_and(combined_satellite_properties_list[i]['ps1_flags'],\n",
    "                               ~combined_satellite_properties_list[i]['des_flags'])\n",
    "    des_sum.append(np.sum(combined_satellite_properties_list[i]['pdet'][des_flags]))\n",
    "    ps1_sum.append(np.sum(combined_satellite_properties_list[i]['pdet'][ps1_flags]))\n",
    "    \n",
    "print('number of predicted des satellites = {}'.format(np.mean(des_sum,axis=0)))\n",
    "print('number of predicted ps1 satellites = {}'.format(np.mean(ps1_sum,axis=0)))"
   ]
  }
 ],
 "metadata": {
  "kernelspec": {
   "display_name": "Python 3",
   "language": "python",
   "name": "python3"
  },
  "language_info": {
   "codemirror_mode": {
    "name": "ipython",
    "version": 3
   },
   "file_extension": ".py",
   "mimetype": "text/x-python",
   "name": "python",
   "nbconvert_exporter": "python",
   "pygments_lexer": "ipython3",
   "version": "3.7.5"
  }
 },
 "nbformat": 4,
 "nbformat_minor": 2
}
